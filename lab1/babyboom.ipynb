{
 "cells": [
  {
   "cell_type": "code",
   "execution_count": null,
   "id": "a99111d5",
   "metadata": {},
   "outputs": [],
   "source": [
    "import pandas as pd\n",
    "import matplotlib.pyplot as plt\n",
    "from tabulate import tabulate"
   ]
  },
  {
   "cell_type": "code",
   "execution_count": null,
   "id": "7d422897",
   "metadata": {},
   "outputs": [],
   "source": [
    "df = pd.read_csv(\"Datasets/babyboom.csv\")\n",
    "df.columns = [\"TimeOfBirth\", \"Sex\", \"WeightInGrams\", \"MinutesAfterMidnight\"]"
   ]
  },
  {
   "cell_type": "code",
   "execution_count": null,
   "id": "344b9184",
   "metadata": {},
   "outputs": [],
   "source": [
    "# Build histograms for every variable\n",
    "df.hist(bins=10, figsize=(12,8))"
   ]
  },
  {
   "cell_type": "code",
   "execution_count": null,
   "id": "7803ee5a",
   "metadata": {},
   "outputs": [],
   "source": [
    "# Build boxplots for every variable\n",
    "columns = df.columns\n",
    "fig, axes = plt.subplots(nrows=len(columns), ncols=1, figsize=(10, 8))\n",
    "\n",
    "for i in range(len(columns)):\n",
    "    axes[i].boxplot(\n",
    "        df[columns[i]], vert=False, patch_artist=True,\n",
    "        boxprops=dict(facecolor=\"lightblue\", color=\"blue\"),\n",
    "        medianprops=dict(color=\"red\"),\n",
    "        whiskerprops=dict(color=\"blue\"),\n",
    "        capprops=dict(color=\"blue\"),\n",
    "        flierprops=dict(markerfacecolor=\"orange\", marker=\"o\", markersize=5),\n",
    "    )\n",
    "    axes[i].set_title(columns[i])\n",
    "    axes[i].grid(True, axis=\"x\", linestyle=\"--\")\n",
    "\n",
    "plt.tight_layout()\n",
    "plt.show()"
   ]
  },
  {
   "cell_type": "code",
   "execution_count": null,
   "id": "5e34051e",
   "metadata": {},
   "outputs": [],
   "source": [
    "# Numerical characteristics of all variables\n",
    "filtered_df = df[[\"WeightInGrams\", \"MinutesAfterMidnight\"]]\n",
    "table = pd.DataFrame({\n",
    "    \"Mean\": filtered_df.mean(),\n",
    "    \"Variance\": filtered_df.var(),\n",
    "    \"Deviation\": filtered_df.std(),\n",
    "    \"Median\": filtered_df.median(),\n",
    "    \"Q1\": filtered_df.quantile(0.25),\n",
    "    \"Q3\": filtered_df.quantile(0.75),\n",
    "})\n",
    "table.columns = [\"Mean\", \"Variance\", \"Deviation\", \"Median\", \"Q1\", \"Q3\"]\n",
    "\n",
    "print(tabulate(table, headers=\"keys\",  tablefmt=\"fancy_grid\"))"
   ]
  },
  {
   "cell_type": "code",
   "execution_count": null,
   "id": "09552ab3",
   "metadata": {},
   "outputs": [],
   "source": [
    "# Coefficients of correlation between variables\n",
    "correlations = filtered_df.select_dtypes(include=[\"number\"]).corr()\n",
    "print(tabulate(correlations, headers=\"keys\", tablefmt=\"fancy_grid\"))"
   ]
  }
 ],
 "metadata": {
  "kernelspec": {
   "display_name": ".venv",
   "language": "python",
   "name": "python3"
  },
  "language_info": {
   "codemirror_mode": {
    "name": "ipython",
    "version": 3
   },
   "file_extension": ".py",
   "mimetype": "text/x-python",
   "name": "python",
   "nbconvert_exporter": "python",
   "pygments_lexer": "ipython3",
   "version": "3.11.2"
  }
 },
 "nbformat": 4,
 "nbformat_minor": 5
}
