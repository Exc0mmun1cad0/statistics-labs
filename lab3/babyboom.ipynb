{
 "cells": [
  {
   "cell_type": "code",
   "execution_count": 23,
   "id": "8525a14a",
   "metadata": {},
   "outputs": [],
   "source": [
    "from scipy.stats import ttest_ind, f\n",
    "from tabulate import tabulate\n",
    "import pandas as pd"
   ]
  },
  {
   "cell_type": "code",
   "execution_count": 24,
   "id": "3f3ce0cc",
   "metadata": {},
   "outputs": [],
   "source": [
    "# Read data\n",
    "df = pd.read_csv(\"Datasets/babyboom.csv\")\n",
    "boys, girls = df[df[\"Sex\"] == 2][\"WeightInGrams\"], df[df[\"Sex\"] == 1][\"WeightInGrams\"]"
   ]
  },
  {
   "cell_type": "code",
   "execution_count": 35,
   "id": "96794942",
   "metadata": {},
   "outputs": [
    {
     "name": "stdout",
     "output_type": "stream",
     "text": [
      "F-test p-value: 0.962368690428575\n",
      "Is variance equal: True\n",
      "T-test p-value: 0.1352891891054555\n",
      "Is math expectation equal: True\n"
     ]
    }
   ],
   "source": [
    "# Perform T-test (Student) and F-test accordingly for equal math expectation and variance\n",
    "confidence = 0.95\n",
    "alpha = 1 - confidence\n",
    "\n",
    "# F-test\n",
    "var_boys = boys.var()\n",
    "var_girls = girls.var()\n",
    "\n",
    "f_value = var_girls / var_boys\n",
    "df1, df2 = len(girls)-1, len(boys)-1\n",
    "\n",
    "p_value = f.cdf(f_value, df1, df2)\n",
    "print(f\"F-test p-value: {p_value}\")\n",
    "print(f\"Is variance equal: {p_value > alpha}\")\n",
    "\n",
    "# T-test\n",
    "t_stat, p_val = ttest_ind(boys, girls, equal_var=(p_value > 0.05))\n",
    "print(f\"T-test p-value: {p_val}\")\n",
    "print(f\"Is math expectation equal: {p_val > alpha}\")"
   ]
  }
 ],
 "metadata": {
  "kernelspec": {
   "display_name": ".venv",
   "language": "python",
   "name": "python3"
  },
  "language_info": {
   "codemirror_mode": {
    "name": "ipython",
    "version": 3
   },
   "file_extension": ".py",
   "mimetype": "text/x-python",
   "name": "python",
   "nbconvert_exporter": "python",
   "pygments_lexer": "ipython3",
   "version": "3.11.2"
  }
 },
 "nbformat": 4,
 "nbformat_minor": 5
}
