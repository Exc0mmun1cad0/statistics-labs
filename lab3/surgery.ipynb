{
 "cells": [
  {
   "cell_type": "code",
   "execution_count": 1,
   "id": "ded95441",
   "metadata": {},
   "outputs": [],
   "source": [
    "import pandas as pd\n",
    "from scipy.stats import binomtest"
   ]
  },
  {
   "cell_type": "code",
   "execution_count": 2,
   "id": "be40536e",
   "metadata": {},
   "outputs": [],
   "source": [
    "# Process the data\n",
    "# with open(\"Datasets/surgery-raw.txt\", \"r\", encoding=\"utf-8\") as f_in, open(\"Datasets/surgery.txt\", \"w\", encoding=\"utf-8\") as f_out:\n",
    "#     for line in f_in:\n",
    "#         nums = line.strip().split(\" \")\n",
    "#         new_line = \" \".join(nums)\n",
    "\n",
    "#         cleaned = re.sub(r'\\s+', ',', line)\n",
    "#         f_out.write(cleaned[:-1] + \"\\n\")\n",
    "\n",
    "# Read data\n",
    "df = pd.read_csv(\"Datasets/surgery.csv\", header=[0, 1])"
   ]
  },
  {
   "cell_type": "code",
   "execution_count": 6,
   "id": "a312e0fe",
   "metadata": {},
   "outputs": [
    {
     "name": "stdout",
     "output_type": "stream",
     "text": [
      "Success operations: 0.7931034482758621 %\n",
      "P-value: 0.0613\n",
      "Отклоняем H₀: Доля успешных операций не равна 0.7\n",
      "P-value: 0.8933\n",
      "Отклоняем H₀: Доля успешных операций не равна 0.8\n"
     ]
    }
   ],
   "source": [
    "success_list = (\n",
    "    (df[(\"BeforeOperation\", \"VRight\")] < df[(\"AfterOperation\", \"VRight\")]) &\n",
    "    (df[(\"BeforeOperation\", \"VLeft\")] < df[(\"AfterOperation\", \"VLeft\")])\n",
    ")\n",
    "\n",
    "success_count = success_list.sum()\n",
    "total_count = len(df)\n",
    "\n",
    "print(f\"Success operations: {success_count / total_count} %\")\n",
    "\n",
    "\n",
    "confidence = 0.95\n",
    "alpha = 1 - 0.05\n",
    "\n",
    "result = binomtest(success_count, total_count, p=0.7, alternative=\"two-sided\")\n",
    "print(f\"P-value: {result.pvalue:.4f}\")\n",
    "\n",
    "p_value = result.pvalue\n",
    "if result.pvalue < alpha:\n",
    "    print(\"Отклоняем H₀: Доля успешных операций не равна 0.7\")\n",
    "else:\n",
    "    print(\"Нет оснований отклонять H₀: недостаточно доказательств, что доля = 0.7\")\n",
    "\n",
    "\n",
    "result = binomtest(success_count, total_count, p=0.8, alternative=\"two-sided\")\n",
    "print(f\"P-value: {result.pvalue:.4f}\")\n",
    "\n",
    "p_value = result.pvalue\n",
    "if result.pvalue < alpha:\n",
    "    print(\"Отклоняем H₀: Доля успешных операций не равна 0.8\")\n",
    "else:\n",
    "    print(\"Нет оснований отклонять H₀: недостаточно доказательств, что доля = 0.8\")"
   ]
  }
 ],
 "metadata": {
  "kernelspec": {
   "display_name": ".venv",
   "language": "python",
   "name": "python3"
  },
  "language_info": {
   "codemirror_mode": {
    "name": "ipython",
    "version": 3
   },
   "file_extension": ".py",
   "mimetype": "text/x-python",
   "name": "python",
   "nbconvert_exporter": "python",
   "pygments_lexer": "ipython3",
   "version": "3.11.2"
  }
 },
 "nbformat": 4,
 "nbformat_minor": 5
}
