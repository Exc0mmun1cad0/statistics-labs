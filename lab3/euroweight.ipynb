{
 "cells": [
  {
   "cell_type": "code",
   "execution_count": 38,
   "id": "277c4215",
   "metadata": {},
   "outputs": [],
   "source": [
    "from scipy.stats import shapiro, ttest_ind, f_oneway\n",
    "from tabulate import tabulate\n",
    "import pandas as pd"
   ]
  },
  {
   "cell_type": "code",
   "execution_count": 39,
   "id": "2625503c",
   "metadata": {},
   "outputs": [],
   "source": [
    "df = pd.read_csv(\"Datasets/euroweight.csv\")\n",
    "\n",
    "conditions = [pd.Series([True] * len(df), index=df.index)] + [df[\"Batch\"] == i for i in range(1, 8+1)]\n",
    "labels = [\"All batches\"] + [f\"Batch {i}\" for i in range(1, 8+1)]"
   ]
  },
  {
   "cell_type": "code",
   "execution_count": 40,
   "id": "ee2b150a",
   "metadata": {},
   "outputs": [
    {
     "name": "stdout",
     "output_type": "stream",
     "text": [
      "╒═════════════╤═════════════╤═════════════╤═══════════════════════════╕\n",
      "│             │   Statistic │     P-value │ Is normally distributed   │\n",
      "╞═════════════╪═════════════╪═════════════╪═══════════════════════════╡\n",
      "│ All batches │    0.975473 │ 5.02328e-18 │ No                        │\n",
      "├─────────────┼─────────────┼─────────────┼───────────────────────────┤\n",
      "│ Batch 1     │    0.995507 │ 0.683002    │ Yes                       │\n",
      "├─────────────┼─────────────┼─────────────┼───────────────────────────┤\n",
      "│ Batch 2     │    0.9909   │ 0.121877    │ Yes                       │\n",
      "├─────────────┼─────────────┼─────────────┼───────────────────────────┤\n",
      "│ Batch 3     │    0.863432 │ 4.08944e-14 │ No                        │\n",
      "├─────────────┼─────────────┼─────────────┼───────────────────────────┤\n",
      "│ Batch 4     │    0.995505 │ 0.682659    │ Yes                       │\n",
      "├─────────────┼─────────────┼─────────────┼───────────────────────────┤\n",
      "│ Batch 5     │    0.991034 │ 0.128993    │ Yes                       │\n",
      "├─────────────┼─────────────┼─────────────┼───────────────────────────┤\n",
      "│ Batch 6     │    0.984059 │ 0.0067565   │ No                        │\n",
      "├─────────────┼─────────────┼─────────────┼───────────────────────────┤\n",
      "│ Batch 7     │    0.990701 │ 0.111983    │ Yes                       │\n",
      "├─────────────┼─────────────┼─────────────┼───────────────────────────┤\n",
      "│ Batch 8     │    0.93672  │ 6.8277e-09  │ No                        │\n",
      "╘═════════════╧═════════════╧═════════════╧═══════════════════════════╛\n"
     ]
    }
   ],
   "source": [
    "# Check for normal distribution\n",
    "confidence = 0.95\n",
    "alpha = 1 - confidence\n",
    "\n",
    "table = []\n",
    "\n",
    "for i in range(len(labels)):\n",
    "    line = [labels[i]]\n",
    "\n",
    "    data = df[conditions[i]][\"Weight\"]\n",
    "\n",
    "    statistic, p_value = shapiro(data)\n",
    "    line.append(statistic)\n",
    "    line.append(p_value)\n",
    "\n",
    "    if p_value > alpha:\n",
    "        line.append(\"Yes\")\n",
    "    else:\n",
    "        line.append(\"No\")\n",
    "    \n",
    "    table.append(line)\n",
    "\n",
    "print(tabulate(table, headers=[\"\", \"Statistic\", \"P-value\", \"Is normally distributed\"], tablefmt=\"fancy_grid\"))"
   ]
  },
  {
   "cell_type": "code",
   "execution_count": 46,
   "id": "3eb299b5",
   "metadata": {},
   "outputs": [
    {
     "name": "stdout",
     "output_type": "stream",
     "text": [
      "╒═════════╤═════════╤═════════════════╕\n",
      "│         │    Mean │   Std deviation │\n",
      "╞═════════╪═════════╪═════════════════╡\n",
      "│ Batch 1 │ 7.51966 │       0.0343613 │\n",
      "├─────────┼─────────┼─────────────────┤\n",
      "│ Batch 2 │ 7.52317 │       0.0354856 │\n",
      "├─────────┼─────────┼─────────────────┤\n",
      "│ Batch 3 │ 7.50954 │       0.0370408 │\n",
      "├─────────┼─────────┼─────────────────┤\n",
      "│ Batch 4 │ 7.5311  │       0.0294165 │\n",
      "├─────────┼─────────┼─────────────────┤\n",
      "│ Batch 5 │ 7.5314  │       0.0296252 │\n",
      "├─────────┼─────────┼─────────────────┤\n",
      "│ Batch 6 │ 7.51524 │       0.033424  │\n",
      "├─────────┼─────────┼─────────────────┤\n",
      "│ Batch 7 │ 7.52302 │       0.0329985 │\n",
      "├─────────┼─────────┼─────────────────┤\n",
      "│ Batch 8 │ 7.51674 │       0.0363746 │\n",
      "╘═════════╧═════════╧═════════════════╛\n",
      "Statistic = 12.67221788627366\n",
      "P-value     = 5.361761521220631e-16\n",
      "Is equal mean: No\n"
     ]
    }
   ],
   "source": [
    "table = []\n",
    "\n",
    "for i in range(1, 8+1):\n",
    "    line = [labels[i]]\n",
    "    data = df[conditions[i]]\n",
    "    mean_weight = data[\"Weight\"].mean()\n",
    "    std_deviation = data[\"Weight\"].std()\n",
    "    line.append(mean_weight)\n",
    "    line.append(std_deviation)\n",
    "\n",
    "    table.append(line)\n",
    "\n",
    "print(tabulate(table, headers = [\"\", \"Mean\", \"Std deviation\"], tablefmt=\"fancy_grid\"))\n",
    "\n",
    "\n",
    "\n",
    "groups = [df[df[\"Batch\"] == b][\"Weight\"] for b in df[\"Batch\"].unique()]\n",
    "\n",
    "# ANOVA test\n",
    "f_stat, p_value = f_oneway(*groups)\n",
    "\n",
    "print(f\"Statistic = {f_stat}\")\n",
    "print(f\"P-value     = {p_value}\")\n",
    "\n",
    "alpha = 0.05\n",
    "print(\"Is equal mean: \", end=\"\")\n",
    "if p_value > alpha:\n",
    "    print(\"Yes\")\n",
    "else:\n",
    "    print(\"No\")"
   ]
  }
 ],
 "metadata": {
  "kernelspec": {
   "display_name": ".venv",
   "language": "python",
   "name": "python3"
  },
  "language_info": {
   "codemirror_mode": {
    "name": "ipython",
    "version": 3
   },
   "file_extension": ".py",
   "mimetype": "text/x-python",
   "name": "python",
   "nbconvert_exporter": "python",
   "pygments_lexer": "ipython3",
   "version": "3.11.2"
  }
 },
 "nbformat": 4,
 "nbformat_minor": 5
}
