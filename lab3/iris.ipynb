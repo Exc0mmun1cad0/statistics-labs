{
 "cells": [
  {
   "cell_type": "code",
   "execution_count": 25,
   "id": "5cdc5c84",
   "metadata": {},
   "outputs": [],
   "source": [
    "from scipy.stats import kruskal, f_oneway, levene\n",
    "from tabulate import tabulate\n",
    "import pandas as pd"
   ]
  },
  {
   "cell_type": "code",
   "execution_count": 26,
   "id": "9e269940",
   "metadata": {},
   "outputs": [],
   "source": [
    "# Read data\n",
    "df = pd.read_csv(\"Datasets/iris.csv\")\n",
    "\n",
    "features = [\"SepalLength\", \"SepalWidth\", \"PetalLength\", \"PetalWidth\"]"
   ]
  },
  {
   "cell_type": "code",
   "execution_count": null,
   "id": "68d9e10e",
   "metadata": {},
   "outputs": [
    {
     "name": "stdout",
     "output_type": "stream",
     "text": [
      "╒═════════════╤══════════════════════════════════════════════════════════════════════╤══════════════╕\n",
      "│ Feature     │ (Statistic, P_value)                                                 │ Conclusion   │\n",
      "╞═════════════╪══════════════════════════════════════════════════════════════════════╪══════════════╡\n",
      "│ SepalLength │ (np.float64(96.93743600064833), np.float64(8.91873433246198e-22))    │ Not same     │\n",
      "├─────────────┼──────────────────────────────────────────────────────────────────────┼──────────────┤\n",
      "│ SepalWidth  │ (np.float64(62.49463010053111), np.float64(2.6882119006774528e-14))  │ Not same     │\n",
      "├─────────────┼──────────────────────────────────────────────────────────────────────┼──────────────┤\n",
      "│ PetalLength │ (np.float64(130.41406912893967), np.float64(4.7967237479455454e-29)) │ Not same     │\n",
      "├─────────────┼──────────────────────────────────────────────────────────────────────┼──────────────┤\n",
      "│ PetalWidth  │ (np.float64(131.09335318823713), np.float64(3.415387999117524e-29))  │ Not same     │\n",
      "╘═════════════╧══════════════════════════════════════════════════════════════════════╧══════════════╛\n"
     ]
    }
   ],
   "source": [
    "# Check for equality of distributions of characteristics of flowers of different types\n",
    "confidence = 0.95\n",
    "alpha = 1 - confidence\n",
    "\n",
    "classes = df[\"Class\"].unique()\n",
    "table = []\n",
    "\n",
    "for feature in features:\n",
    "    line = [feature]\n",
    "    groups = [df[df[\"Class\"] == cls][feature] for cls in classes]\n",
    "\n",
    "    # Kruskal Wallis test\n",
    "    stat, p_value = kruskal(*groups)\n",
    "\n",
    "    line.append((stat, p_value))\n",
    "    line.append(\"Same\" if p_value > alpha else \"Not same\")\n",
    "\n",
    "    table.append(line)\n",
    "\n",
    "print(tabulate(table, headers=[\"Feature\", \"(Statistic, P_value)\", \"Conclusion\"], tablefmt=\"fancy_grid\"))"
   ]
  },
  {
   "cell_type": "code",
   "execution_count": null,
   "id": "aacee369",
   "metadata": {},
   "outputs": [
    {
     "name": "stdout",
     "output_type": "stream",
     "text": [
      "╒═════════════╤══════════════════════════════════════════════════════════════════════╤══════════════╕\n",
      "│ Feature     │ (Statistic, P_value)                                                 │ Conclusion   │\n",
      "╞═════════════╪══════════════════════════════════════════════════════════════════════╪══════════════╡\n",
      "│ SepalLength │ (np.float64(119.26450218450468), np.float64(1.6696691907693826e-31)) │ Not same     │\n",
      "├─────────────┼──────────────────────────────────────────────────────────────────────┼──────────────┤\n",
      "│ SepalWidth  │ (np.float64(47.36446140299382), np.float64(1.3279165184572242e-16))  │ Not same     │\n",
      "├─────────────┼──────────────────────────────────────────────────────────────────────┼──────────────┤\n",
      "│ PetalLength │ (np.float64(1179.0343277002194), np.float64(3.0519758018278374e-91)) │ Not same     │\n",
      "├─────────────┼──────────────────────────────────────────────────────────────────────┼──────────────┤\n",
      "│ PetalWidth  │ (np.float64(959.3244057257613), np.float64(4.376956957488959e-85))   │ Not same     │\n",
      "╘═════════════╧══════════════════════════════════════════════════════════════════════╧══════════════╛\n"
     ]
    }
   ],
   "source": [
    "# Check for equal math distribution of characteristics of flowers of different types\n",
    "confidence = 0.95\n",
    "alpha = 1 - confidence\n",
    "\n",
    "classes = df[\"Class\"].unique()\n",
    "table = []\n",
    "\n",
    "for feature in features:\n",
    "    line = [feature]\n",
    "    groups = [df[df[\"Class\"] == cls][feature] for cls in classes]\n",
    "\n",
    "    # Kruskal Wallis test\n",
    "    stat, p_value = f_oneway(*groups)\n",
    "\n",
    "    line.append((stat, p_value))\n",
    "    line.append(\"Same\" if p_value > alpha else \"Not same\")\n",
    "\n",
    "    table.append(line)\n",
    "\n",
    "print(tabulate(table, headers=[\"Feature\", \"(Statistic, P_value)\", \"Conclusion\"], tablefmt=\"fancy_grid\"))"
   ]
  },
  {
   "cell_type": "code",
   "execution_count": null,
   "id": "bef50573",
   "metadata": {},
   "outputs": [
    {
     "name": "stdout",
     "output_type": "stream",
     "text": [
      "╒═════════════╤═════════════════════════════════════════════════════════════════════╤══════════════╕\n",
      "│ Feature     │ (Statistic, P_value)                                                │ Conclusion   │\n",
      "╞═════════════╪═════════════════════════════════════════════════════════════════════╪══════════════╡\n",
      "│ SepalLength │ (np.float64(6.35272002048269), np.float64(0.0022585277836218586))   │ Not same     │\n",
      "├─────────────┼─────────────────────────────────────────────────────────────────────┼──────────────┤\n",
      "│ SepalWidth  │ (np.float64(0.6475222363405327), np.float64(0.5248269975064537))    │ Same         │\n",
      "├─────────────┼─────────────────────────────────────────────────────────────────────┼──────────────┤\n",
      "│ PetalLength │ (np.float64(19.72005532503458), np.float64(2.5892961840828553e-08)) │ Not same     │\n",
      "├─────────────┼─────────────────────────────────────────────────────────────────────┼──────────────┤\n",
      "│ PetalWidth  │ (np.float64(19.412206652034453), np.float64(3.301949958497502e-08)) │ Not same     │\n",
      "╘═════════════╧═════════════════════════════════════════════════════════════════════╧══════════════╛\n"
     ]
    }
   ],
   "source": [
    "# Check for equal variance of characteristics of flowers of different types\n",
    "confidence = 0.95\n",
    "alpha = 1 - confidence\n",
    "\n",
    "classes = df[\"Class\"].unique()\n",
    "table = []\n",
    "\n",
    "for feature in features:\n",
    "    line = [feature]\n",
    "    groups = [df[df[\"Class\"] == cls][feature] for cls in classes]\n",
    "\n",
    "    # Kruskal Wallis test\n",
    "    stat, p_value = levene(*groups)\n",
    "\n",
    "    line.append((stat, p_value))\n",
    "    line.append(\"Same\" if p_value > alpha else \"Not same\")\n",
    "\n",
    "    table.append(line)\n",
    "\n",
    "print(tabulate(table, headers=[\"Feature\", \"(Statistic, P_value)\", \"Conclusion\"], tablefmt=\"fancy_grid\"))"
   ]
  }
 ],
 "metadata": {
  "kernelspec": {
   "display_name": ".venv",
   "language": "python",
   "name": "python3"
  },
  "language_info": {
   "codemirror_mode": {
    "name": "ipython",
    "version": 3
   },
   "file_extension": ".py",
   "mimetype": "text/x-python",
   "name": "python",
   "nbconvert_exporter": "python",
   "pygments_lexer": "ipython3",
   "version": "3.11.2"
  }
 },
 "nbformat": 4,
 "nbformat_minor": 5
}
