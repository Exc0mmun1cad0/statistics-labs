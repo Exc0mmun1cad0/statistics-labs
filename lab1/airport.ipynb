{
 "cells": [
  {
   "cell_type": "code",
   "execution_count": null,
   "id": "91450fe5",
   "metadata": {},
   "outputs": [],
   "source": [
    "import pandas as pd\n",
    "import matplotlib.pyplot as plt\n",
    "from tabulate import tabulate"
   ]
  },
  {
   "cell_type": "code",
   "execution_count": null,
   "id": "1f938561",
   "metadata": {},
   "outputs": [],
   "source": [
    "df = pd.read_csv(\"Datasets/airport.csv\")\n",
    "df.columns = [\n",
    "    \"Airport\", \"City\", \"ScheduledDepartures\", \"PerformedDepartures\", \"EnplanedPassengers\", \n",
    "    \"EnplanedRevenueFreightTons\", \"EnplanedRevenueMailTons\",\n",
    "]"
   ]
  },
  {
   "cell_type": "code",
   "execution_count": null,
   "id": "cd0cb8df",
   "metadata": {},
   "outputs": [],
   "source": [
    "# Build histograms for every variable\n",
    "df.hist(bins=50, figsize=(12,8))"
   ]
  },
  {
   "cell_type": "code",
   "execution_count": null,
   "id": "d80a8bdd",
   "metadata": {},
   "outputs": [],
   "source": [
    "# Build boxplots for every variable\n",
    "columns = df.columns[2:]\n",
    "fig, axes = plt.subplots(nrows=len(columns), ncols=1, figsize=(10, 15))\n",
    "\n",
    "for i in range(len(columns)):\n",
    "    axes[i].boxplot(\n",
    "        df[columns[i]], vert=False, patch_artist=True,\n",
    "        boxprops=dict(facecolor=\"lightblue\", color=\"blue\"),\n",
    "        medianprops=dict(color=\"red\"),\n",
    "        whiskerprops=dict(color=\"blue\"),\n",
    "        capprops=dict(color=\"blue\"),\n",
    "        flierprops=dict(markerfacecolor=\"orange\", marker=\"o\", markersize=5),\n",
    "    )\n",
    "    axes[i].set_title(columns[i])\n",
    "    axes[i].grid(True, axis=\"x\", linestyle=\"--\")\n",
    "\n",
    "plt.tight_layout()\n",
    "plt.show()"
   ]
  },
  {
   "cell_type": "code",
   "execution_count": null,
   "id": "0f9dd5de",
   "metadata": {},
   "outputs": [],
   "source": [
    "# Numerical characteristics of all variables\n",
    "numerical_df = df.select_dtypes(include=[\"number\"])\n",
    "table = pd.DataFrame({\n",
    "    \"Mean\": numerical_df.mean(),\n",
    "    \"Variance\": numerical_df.var(),\n",
    "    \"Deviation\": numerical_df.std(),\n",
    "    \"Median\": numerical_df.median(),\n",
    "    \"Q1\": numerical_df.quantile(0.25),\n",
    "    \"Q3\": numerical_df.quantile(0.75),\n",
    "})\n",
    "table.columns = [\"Mean\", \"Variance\", \"Deviation\", \"Median\", \"Q1\", \"Q3\"]\n",
    "print(tabulate(table, headers=\"keys\",  tablefmt=\"fancy_grid\"))"
   ]
  },
  {
   "cell_type": "code",
   "execution_count": null,
   "id": "b2c68fdb",
   "metadata": {},
   "outputs": [],
   "source": [
    "# Coefficients of correlation between variables\n",
    "correlations = df.select_dtypes(include=[\"number\"]).corr()\n",
    "print(tabulate(correlations, headers=\"keys\", tablefmt=\"fancy_grid\"))"
   ]
  }
 ],
 "metadata": {
  "kernelspec": {
   "display_name": ".venv",
   "language": "python",
   "name": "python3"
  },
  "language_info": {
   "codemirror_mode": {
    "name": "ipython",
    "version": 3
   },
   "file_extension": ".py",
   "mimetype": "text/x-python",
   "name": "python",
   "nbconvert_exporter": "python",
   "pygments_lexer": "ipython3",
   "version": "3.11.2"
  }
 },
 "nbformat": 4,
 "nbformat_minor": 5
}
